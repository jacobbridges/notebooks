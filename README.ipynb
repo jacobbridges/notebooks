{
 "cells": [
  {
   "cell_type": "markdown",
   "metadata": {},
   "source": [
    "# Some IPython Notebooks\n",
    "\n",
    "Compiled by Jacob Bridges\n",
    "\n",
    "## Summary\n",
    "\n",
    "This is my personal collection of IPython notebooks. \n",
    "\n",
    "\n",
    "## Thanks\n",
    "\n",
    "Thank you [Jupyter](http://jupyter.org/) for building and maintaining this awesome tool and thank you [Github](http://github.com/) for supporting the `.ipynb` format.\n"
   ]
  }
 ],
 "metadata": {
  "kernelspec": {
   "display_name": "Python 2",
   "language": "python",
   "name": "python2"
  },
  "language_info": {
   "codemirror_mode": {
    "name": "ipython",
    "version": 2
   },
   "file_extension": ".py",
   "mimetype": "text/x-python",
   "name": "python",
   "nbconvert_exporter": "python",
   "pygments_lexer": "ipython2",
   "version": "2.7.9"
  }
 },
 "nbformat": 4,
 "nbformat_minor": 0
}
